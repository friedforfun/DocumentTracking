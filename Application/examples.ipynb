{
 "cells": [
  {
   "cell_type": "code",
   "execution_count": null,
   "metadata": {},
   "outputs": [],
   "source": []
  },
  {
   "source": [
    "# Lazy Eval JSON file read  "
   ],
   "cell_type": "markdown",
   "metadata": {}
  },
  {
   "cell_type": "code",
   "execution_count": 1,
   "metadata": {
    "tags": []
   },
   "outputs": [
    {
     "output_type": "stream",
     "name": "stdout",
     "text": [
      "{'ts': 1393631983, 'visitor_uuid': '04daa9ed9dde73d3', 'visitor_source': 'external', 'visitor_device': 'browser', 'visitor_useragent': 'Mozilla/5.0 (Windows NT 6.1; WOW64) AppleWebKit/537.36 (KHTML, like Gecko) Chrome/33.0.1750.117 Safari/537.36', 'visitor_ip': '6a3273d508a9de04', 'visitor_country': 'ES', 'visitor_referrer': '64f729926497515c', 'env_type': 'reader', 'env_doc_id': '140224195414-e5a9acedd5eb6631bb6b39422fba6798', 'event_type': 'impression', 'subject_type': 'doc', 'subject_doc_id': '140224195414-e5a9acedd5eb6631bb6b39422fba6798', 'subject_page': 0, 'cause_type': 'impression'}\n{'ts': 1393631983, 'visitor_uuid': '04daa9ed9dde73d3', 'visitor_source': 'external', 'visitor_device': 'browser', 'visitor_useragent': 'Mozilla/5.0 (Windows NT 6.1; WOW64) AppleWebKit/537.36 (KHTML, like Gecko) Chrome/33.0.1750.117 Safari/537.36', 'visitor_ip': '6a3273d508a9de04', 'visitor_country': 'ES', 'visitor_referrer': '64f729926497515c', 'env_type': 'reader', 'env_doc_id': '140224195414-e5a9acedd5eb6631bb6b39422fba6798', 'event_type': 'impression', 'subject_type': 'doc', 'subject_doc_id': '140224195414-e5a9acedd5eb6631bb6b39422fba6798', 'subject_page': 1, 'cause_type': 'page'}\n"
     ]
    }
   ],
   "source": [
    "from DocuTrace.analysis import fileHandler as fh\n",
    "import os\n",
    "\n",
    "json = fh.stream_read_json(os.path.abspath('sample_data/issuu_cw2.json'))\n",
    "\n",
    "print(next(json))\n",
    "print(next(json))\n"
   ]
  },
  {
   "cell_type": "code",
   "execution_count": 2,
   "metadata": {},
   "outputs": [],
   "source": [
    "json = fh.stream_read_json(os.path.abspath('sample_data/issuu_sample.json'))\n",
    "\n",
    "j = next(json)\n"
   ]
  },
  {
   "cell_type": "code",
   "execution_count": 8,
   "metadata": {},
   "outputs": [
    {
     "output_type": "stream",
     "name": "stdout",
     "text": [
      "dict_keys(['ts', 'visitor_uuid', 'visitor_username', 'visitor_source', 'visitor_device', 'visitor_useragent', 'visitor_ip', 'visitor_country', 'visitor_referrer', 'env_type', 'env_doc_id', 'env_adid', 'event_type', 'subject_type', 'subject_doc_id', 'subject_page', 'cause_type'])\n"
     ]
    },
    {
     "output_type": "execute_result",
     "data": {
      "text/plain": [
       "'MX'"
      ]
     },
     "metadata": {},
     "execution_count": 8
    }
   ],
   "source": [
    "print(j.keys())\n",
    "j.get('visitor_country', None)"
   ]
  },
  {
   "cell_type": "code",
   "execution_count": null,
   "metadata": {},
   "outputs": [],
   "source": []
  }
 ],
 "metadata": {
  "kernelspec": {
   "display_name": "Python 3",
   "language": "python",
   "name": "python3"
  },
  "language_info": {
   "codemirror_mode": {
    "name": "ipython",
    "version": 3
   },
   "file_extension": ".py",
   "mimetype": "text/x-python",
   "name": "python",
   "nbconvert_exporter": "python",
   "pygments_lexer": "ipython3",
   "version": "3.8.5-final"
  }
 },
 "nbformat": 4,
 "nbformat_minor": 4
}