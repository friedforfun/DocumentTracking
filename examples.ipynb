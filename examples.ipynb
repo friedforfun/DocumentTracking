{
 "cells": [
  {
   "cell_type": "code",
   "execution_count": null,
   "metadata": {},
   "outputs": [],
   "source": []
  },
  {
   "source": [
    "# Lazy Eval JSON file read  "
   ],
   "cell_type": "markdown",
   "metadata": {}
  },
  {
   "cell_type": "code",
   "execution_count": 1,
   "metadata": {},
   "outputs": [],
   "source": [
    "import numpy as np"
   ]
  },
  {
   "cell_type": "code",
   "execution_count": 2,
   "metadata": {
    "tags": []
   },
   "outputs": [
    {
     "output_type": "stream",
     "name": "stdout",
     "text": [
      "{'ts': 1393631983, 'visitor_uuid': '04daa9ed9dde73d3', 'visitor_source': 'external', 'visitor_device': 'browser', 'visitor_useragent': 'Mozilla/5.0 (Windows NT 6.1; WOW64) AppleWebKit/537.36 (KHTML, like Gecko) Chrome/33.0.1750.117 Safari/537.36', 'visitor_ip': '6a3273d508a9de04', 'visitor_country': 'ES', 'visitor_referrer': '64f729926497515c', 'env_type': 'reader', 'env_doc_id': '140224195414-e5a9acedd5eb6631bb6b39422fba6798', 'event_type': 'impression', 'subject_type': 'doc', 'subject_doc_id': '140224195414-e5a9acedd5eb6631bb6b39422fba6798', 'subject_page': 0, 'cause_type': 'impression'}\n{'ts': 1393631983, 'visitor_uuid': '04daa9ed9dde73d3', 'visitor_source': 'external', 'visitor_device': 'browser', 'visitor_useragent': 'Mozilla/5.0 (Windows NT 6.1; WOW64) AppleWebKit/537.36 (KHTML, like Gecko) Chrome/33.0.1750.117 Safari/537.36', 'visitor_ip': '6a3273d508a9de04', 'visitor_country': 'ES', 'visitor_referrer': '64f729926497515c', 'env_type': 'reader', 'env_doc_id': '140224195414-e5a9acedd5eb6631bb6b39422fba6798', 'event_type': 'impression', 'subject_type': 'doc', 'subject_doc_id': '140224195414-e5a9acedd5eb6631bb6b39422fba6798', 'subject_page': 1, 'cause_type': 'page'}\n"
     ]
    }
   ],
   "source": [
    "from DocuTrace.Analysis import FileRead as fr\n",
    "import os\n",
    "%load_ext autoreload\n",
    "%autoreload 2\n",
    "\n",
    "json = fr.stream_read_json(os.path.abspath('sample_data/issuu_cw2.json'))\n",
    "\n",
    "print(next(json))\n",
    "print(next(json))\n"
   ]
  },
  {
   "cell_type": "code",
   "execution_count": 3,
   "metadata": {},
   "outputs": [
    {
     "output_type": "execute_result",
     "data": {
      "text/plain": [
       "dict"
      ]
     },
     "metadata": {},
     "execution_count": 3
    }
   ],
   "source": [
    "json = fr.stream_read_json(os.path.abspath('sample_data/issuu_sample.json'))\n",
    "\n",
    "j = next(json)\n",
    "type(j)\n"
   ]
  },
  {
   "cell_type": "code",
   "execution_count": 4,
   "metadata": {},
   "outputs": [
    {
     "output_type": "stream",
     "name": "stdout",
     "text": [
      "dict_keys(['ts', 'visitor_uuid', 'visitor_username', 'visitor_source', 'visitor_device', 'visitor_useragent', 'visitor_ip', 'visitor_country', 'visitor_referrer', 'env_type', 'env_doc_id', 'env_adid', 'event_type', 'subject_type', 'subject_doc_id', 'subject_page', 'cause_type'])\n"
     ]
    },
    {
     "output_type": "execute_result",
     "data": {
      "text/plain": [
       "'MX'"
      ]
     },
     "metadata": {},
     "execution_count": 4
    }
   ],
   "source": [
    "print(j.keys())\n",
    "j.get('visitor_country', None)"
   ]
  },
  {
   "cell_type": "code",
   "execution_count": 5,
   "metadata": {
    "tags": []
   },
   "outputs": [
    {
     "output_type": "stream",
     "name": "stdout",
     "text": [
      "The autoreload extension is already loaded. To reload it, use:\n  %reload_ext autoreload\n"
     ]
    }
   ],
   "source": [
    "from DocuTrace.Analysis.DataCollector import DataCollector\n",
    "from DocuTrace.Analysis.ComputeData import ComputeData\n",
    "from DocuTrace.Analysis.Plots import Graphs\n",
    "from DocuTrace.Utils.Logging import logger, debug, logging\n",
    "%load_ext autoreload\n",
    "%autoreload 2\n",
    "test = DataCollector()\n",
    "test.set_read_path('sample_data/sample_100k_lines.json')\n",
    "import time\n",
    "start_time = time.time()\n",
    "#@debug\n",
    "test.gather_data(concurrent=False, max_workers=None, chunk_size=5000000)\n",
    "duration = time.time() - start_time\n",
    "# sample_3m_lines.json\n",
    "#sample_400k_lines.json\n",
    "# issuu_cw2.json"
   ]
  },
  {
   "cell_type": "code",
   "execution_count": 6,
   "metadata": {},
   "outputs": [
    {
     "output_type": "execute_result",
     "data": {
      "text/plain": [
       "23.55304455757141"
      ]
     },
     "metadata": {},
     "execution_count": 6
    }
   ],
   "source": [
    "duration"
   ]
  },
  {
   "cell_type": "code",
   "execution_count": 7,
   "metadata": {},
   "outputs": [],
   "source": [
    "cd = ComputeData(test)"
   ]
  },
  {
   "cell_type": "code",
   "execution_count": 8,
   "metadata": {},
   "outputs": [
    {
     "output_type": "stream",
     "name": "stdout",
     "text": [
      "[ INFO ] Graph saved at: /home/sam/Projects/DocumentTracking/Application/also_likes.png\n"
     ]
    },
    {
     "output_type": "execute_result",
     "data": {
      "text/plain": [
       "'/home/sam/Projects/DocumentTracking/Application/also_likes.png'"
      ]
     },
     "metadata": {},
     "execution_count": 8
    }
   ],
   "source": [
    "gr = Graphs(cd, 'also_likes')\n",
    "img = gr.also_likes_graph('140224093301-60151c849f742e45bfb63d18ab9ded78', n=8)\n",
    "gr.save_view_graph(img)\n"
   ]
  },
  {
   "cell_type": "code",
   "execution_count": 9,
   "metadata": {},
   "outputs": [
    {
     "output_type": "execute_result",
     "data": {
      "text/plain": [
       "([{'Europe': 109, 'North America': 1}, {'GB': 108, 'ES': 1, 'US': 1}],\n",
       " ['Document views from each continent', 'Document views from each country'],\n",
       " ['', ''],\n",
       " ['Continent', 'Country'])"
      ]
     },
     "metadata": {},
     "execution_count": 9
    }
   ],
   "source": [
    "cd.construct_document_counts_figure('140224093301-60151c849f742e45bfb63d18ab9ded78')"
   ]
  },
  {
   "cell_type": "code",
   "execution_count": 11,
   "metadata": {
    "tags": []
   },
   "outputs": [
    {
     "output_type": "stream",
     "name": "stdout",
     "text": [
      "100806162735-00000000115598650cb8b514246272b5\n"
     ]
    }
   ],
   "source": [
    "\n",
    "most_related_docs = []\n",
    "key = None\n",
    "for doc in cd.document_readers.keys():\n",
    "    related_docs = cd.also_likes(doc)\n",
    "    if len(related_docs) > len(most_related_docs):\n",
    "        key = doc\n",
    "        most_related_docs = related_docs\n",
    "\n",
    "most_related_docs, key\n",
    "print(key)"
   ]
  },
  {
   "cell_type": "code",
   "execution_count": 10,
   "metadata": {},
   "outputs": [
    {
     "output_type": "stream",
     "name": "stdout",
     "text": [
      "// Example\ndigraph \"Also likes\" {\n\t{\n\t\tnode [fontsize=16 shape=plaintext]\n\t\tReaders -> Documents\n\t}\n\t{\n\t\tnode [rank=same rankdir=same shape=box]\n\t\tA [label=0 color=green style=filled]\n\t\tB [label=1]\n\t}\n\t{\n\t\tnode [rank=same rankdir=same shape=circle]\n\t\tC [label=2]\n\t\tD [label=3 color=green style=filled]\n\t}\n\tA -> D\n\tA -> C\n\tB -> D\n}\n"
     ]
    }
   ],
   "source": [
    "from graphviz import Digraph\n",
    "\n",
    "dot = Digraph(name='Also likes', comment='Example')\n",
    "\n",
    "with dot.subgraph() as context:\n",
    "    context.attr('node', shape='plaintext', fontsize='16')\n",
    "    context.edge('Readers', 'Documents')\n",
    "\n",
    "with dot.subgraph() as top:\n",
    "    top.attr('node', shape='box', rankdir='same', rank='same')\n",
    "    top.node('A', '0', color='green', style='filled')\n",
    "    top.node('B', '1')\n",
    "\n",
    "with dot.subgraph() as bot:\n",
    "    bot.attr('node', shape='circle', rankdir='same', rank='same')\n",
    "    bot.node('C', '2')\n",
    "    bot.node('D', '3', color='green', style='filled')\n",
    "\n",
    "dot.edge('A', 'D')\n",
    "dot.edge('A', 'C')\n",
    "dot.edge('B', 'D')\n",
    "print(dot.source)"
   ]
  },
  {
   "cell_type": "code",
   "execution_count": 11,
   "metadata": {},
   "outputs": [],
   "source": [
    "import numpy as np\n"
   ]
  },
  {
   "cell_type": "code",
   "execution_count": 12,
   "metadata": {},
   "outputs": [
    {
     "output_type": "stream",
     "name": "stdout",
     "text": [
      "True\n"
     ]
    }
   ],
   "source": [
    "u = np.array(['a','b', 'c'])\n",
    "if 'b' in u:\n",
    "    print(True)\n"
   ]
  },
  {
   "cell_type": "code",
   "execution_count": 13,
   "metadata": {},
   "outputs": [],
   "source": [
    "from itertools import islice\n",
    "\n",
    "reader = fr.stream_file_chunks('sample_data/issuu_sample.json', chunk_size=1)"
   ]
  },
  {
   "cell_type": "code",
   "execution_count": 14,
   "metadata": {},
   "outputs": [
    {
     "output_type": "execute_result",
     "data": {
      "text/plain": [
       "['{   \"ts\": 1393631989,    \"visitor_uuid\": \"745409913574d4c6\",    \"visitor_username\": null,    \"visitor_source\": \"external\",    \"visitor_device\": \"browser\",    \"visitor_useragent\": \"Mozilla/5.0 (iPhone; CPU iPhone OS 7_0_6 like Mac OS X) AppleWebKit/537.51.1 (KHTML, like Gecko) Mobile/11B651 [FBAN/FBIOS;FBAV/7.0.0.17.1;FBBV/1325030;FBDV/iPhone4,1;FBMD/iPhone;FBSN/iPhone OS;FBSV/7.0.6;FBSS/2; FBCR/Telcel;FBID/phone;FBLC/es_ES;FBOP/5]\",    \"visitor_ip\": \"0e1c9cd3d6c22c65\",    \"visitor_country\": \"MX\",    \"visitor_referrer\": \"ab11264107143c5f\",    \"env_type\": \"reader\",    \"env_doc_id\": \"140228202800-6ef39a241f35301a9a42cd0ed21e5fb0\",    \"env_adid\": null,    \"event_type\": \"impression\",    \"subject_type\": \"doc\",    \"subject_doc_id\": \"140228202800-6ef39a241f35301a9a42cd0ed21e5fb0\",    \"subject_page\": 23,    \"cause_type\": \"page\" }\\n']"
      ]
     },
     "metadata": {},
     "execution_count": 14
    }
   ],
   "source": [
    "next(reader)"
   ]
  },
  {
   "cell_type": "code",
   "execution_count": 15,
   "metadata": {},
   "outputs": [
    {
     "output_type": "execute_result",
     "data": {
      "text/plain": [
       "['{   \"ts\": 1393631990,    \"visitor_uuid\": \"9a83c97f415601a6\",    \"visitor_username\": null,    \"visitor_source\": \"external\",    \"visitor_device\": \"browser\",    \"visitor_useragent\": \"Mozilla/5.0 (Windows NT 5.1) AppleWebKit/537.36 (KHTML, like Gecko) Chrome/31.0.1650.63 Safari/537.36\",    \"visitor_ip\": \"03a2602450304bd4\",    \"visitor_country\": \"AR\",    \"visitor_referrer\": \"0aefac0a2bd221ab\",    \"env_type\": \"reader\",    \"env_doc_id\": \"131203154832-9b8594b7ec211f7e1a0782fd9883a42c\",    \"env_adid\": null,    \"event_type\": \"read\",    \"subject_type\": \"doc\",    \"subject_doc_id\": \"131203154832-9b8594b7ec211f7e1a0782fd9883a42c\",    \"subject_page\": 0,    \"cause\": null }\\n']"
      ]
     },
     "metadata": {},
     "execution_count": 15
    }
   ],
   "source": [
    "next(reader)"
   ]
  },
  {
   "cell_type": "code",
   "execution_count": 2,
   "metadata": {},
   "outputs": [
    {
     "output_type": "execute_result",
     "data": {
      "text/plain": [
       "2"
      ]
     },
     "metadata": {},
     "execution_count": 2
    }
   ],
   "source": [
    "from collections import OrderedDict\n",
    "\n",
    "o = OrderedDict([('a', 2), ('b', 4), ('c', 9)])\n",
    "o['a']"
   ]
  },
  {
   "cell_type": "code",
   "execution_count": null,
   "metadata": {},
   "outputs": [],
   "source": []
  }
 ],
 "metadata": {
  "language_info": {
   "codemirror_mode": {
    "name": "ipython",
    "version": 3
   },
   "file_extension": ".py",
   "mimetype": "text/x-python",
   "name": "python",
   "nbconvert_exporter": "python",
   "pygments_lexer": "ipython3",
   "version": "3.8.5-final"
  },
  "kernelspec": {
   "name": "python3",
   "display_name": "Python 3.8.5 64-bit ('.env')",
   "metadata": {
    "interpreter": {
     "hash": "f5efebce6af57f5c626bfff6ab8e2414509d2d89416d9946a6bbf2778eb9812b"
    }
   }
  }
 },
 "nbformat": 4,
 "nbformat_minor": 4
}