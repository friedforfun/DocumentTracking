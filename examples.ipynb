{
 "cells": [
  {
   "cell_type": "code",
   "execution_count": null,
   "metadata": {},
   "outputs": [],
   "source": []
  },
  {
   "source": [
    "# Lazy Eval JSON file read  "
   ],
   "cell_type": "markdown",
   "metadata": {}
  },
  {
   "cell_type": "code",
   "execution_count": 1,
   "metadata": {},
   "outputs": [],
   "source": [
    "import numpy as np"
   ]
  },
  {
   "cell_type": "code",
   "execution_count": 2,
   "metadata": {
    "tags": []
   },
   "outputs": [
    {
     "output_type": "stream",
     "name": "stdout",
     "text": [
      "{'ts': 1393631983, 'visitor_uuid': '04daa9ed9dde73d3', 'visitor_source': 'external', 'visitor_device': 'browser', 'visitor_useragent': 'Mozilla/5.0 (Windows NT 6.1; WOW64) AppleWebKit/537.36 (KHTML, like Gecko) Chrome/33.0.1750.117 Safari/537.36', 'visitor_ip': '6a3273d508a9de04', 'visitor_country': 'ES', 'visitor_referrer': '64f729926497515c', 'env_type': 'reader', 'env_doc_id': '140224195414-e5a9acedd5eb6631bb6b39422fba6798', 'event_type': 'impression', 'subject_type': 'doc', 'subject_doc_id': '140224195414-e5a9acedd5eb6631bb6b39422fba6798', 'subject_page': 0, 'cause_type': 'impression'}\n{'ts': 1393631983, 'visitor_uuid': '04daa9ed9dde73d3', 'visitor_source': 'external', 'visitor_device': 'browser', 'visitor_useragent': 'Mozilla/5.0 (Windows NT 6.1; WOW64) AppleWebKit/537.36 (KHTML, like Gecko) Chrome/33.0.1750.117 Safari/537.36', 'visitor_ip': '6a3273d508a9de04', 'visitor_country': 'ES', 'visitor_referrer': '64f729926497515c', 'env_type': 'reader', 'env_doc_id': '140224195414-e5a9acedd5eb6631bb6b39422fba6798', 'event_type': 'impression', 'subject_type': 'doc', 'subject_doc_id': '140224195414-e5a9acedd5eb6631bb6b39422fba6798', 'subject_page': 1, 'cause_type': 'page'}\n"
     ]
    }
   ],
   "source": [
    "from DocuTrace.Analysis import FileRead as fr\n",
    "import os\n",
    "%load_ext autoreload\n",
    "%autoreload 2\n",
    "\n",
    "json = fr.stream_read_json(os.path.abspath('sample_data/issuu_cw2.json'))\n",
    "\n",
    "print(next(json))\n",
    "print(next(json))\n"
   ]
  },
  {
   "cell_type": "code",
   "execution_count": 3,
   "metadata": {},
   "outputs": [
    {
     "output_type": "execute_result",
     "data": {
      "text/plain": [
       "dict"
      ]
     },
     "metadata": {},
     "execution_count": 3
    }
   ],
   "source": [
    "json = fr.stream_read_json(os.path.abspath('sample_data/issuu_sample.json'))\n",
    "\n",
    "j = next(json)\n",
    "type(j)\n"
   ]
  },
  {
   "cell_type": "code",
   "execution_count": 4,
   "metadata": {},
   "outputs": [
    {
     "output_type": "stream",
     "name": "stdout",
     "text": [
      "dict_keys(['ts', 'visitor_uuid', 'visitor_username', 'visitor_source', 'visitor_device', 'visitor_useragent', 'visitor_ip', 'visitor_country', 'visitor_referrer', 'env_type', 'env_doc_id', 'env_adid', 'event_type', 'subject_type', 'subject_doc_id', 'subject_page', 'cause_type'])\n"
     ]
    },
    {
     "output_type": "execute_result",
     "data": {
      "text/plain": [
       "'MX'"
      ]
     },
     "metadata": {},
     "execution_count": 4
    }
   ],
   "source": [
    "print(j.keys())\n",
    "j.get('visitor_country', None)"
   ]
  },
  {
   "cell_type": "code",
   "execution_count": 1,
   "metadata": {
    "tags": []
   },
   "outputs": [
    {
     "output_type": "stream",
     "name": "stdout",
     "text": [
      "[ INFO ] Multiprocessing has been enabled in FileRead.parse_file.\n"
     ]
    }
   ],
   "source": [
    "from DocuTrace.Analysis.DataCollector import DataCollector\n",
    "from DocuTrace.Analysis.ComputeData import ComputeData\n",
    "from DocuTrace.Analysis.Plots import Graphs\n",
    "from DocuTrace.Utils.Logging import logger, debug, logging\n",
    "%load_ext autoreload\n",
    "%autoreload 2\n",
    "test = DataCollector()\n",
    "test.set_read_path('sample_data/sample_100k_lines.json')\n",
    "import time\n",
    "start_time = time.time()\n",
    "#@debug\n",
    "test.gather_data(concurrent=True, max_workers=None, chunk_size=5000000)\n",
    "duration = time.time() - start_time\n",
    "# sample_3m_lines.json\n",
    "#sample_400k_lines.json\n",
    "# issuu_cw2.json"
   ]
  },
  {
   "cell_type": "code",
   "execution_count": 2,
   "metadata": {},
   "outputs": [
    {
     "output_type": "execute_result",
     "data": {
      "text/plain": [
       "2.4020276069641113"
      ]
     },
     "metadata": {},
     "execution_count": 2
    }
   ],
   "source": [
    "duration"
   ]
  },
  {
   "cell_type": "code",
   "execution_count": 3,
   "metadata": {},
   "outputs": [],
   "source": [
    "cd = ComputeData(test)"
   ]
  },
  {
   "cell_type": "code",
   "execution_count": 4,
   "metadata": {},
   "outputs": [
    {
     "output_type": "stream",
     "name": "stdout",
     "text": [
      "[ DEBUG ] Graph file format: png\n",
      "[ INFO ] Graph saved at: also_likes.png\n"
     ]
    },
    {
     "output_type": "execute_result",
     "data": {
      "text/plain": [
       "'also_likes.png'"
      ]
     },
     "metadata": {},
     "execution_count": 4
    }
   ],
   "source": [
    "gr = Graphs(cd, 'also_likes')\n",
    "img = gr.also_likes_graph('140224093301-60151c849f742e45bfb63d18ab9ded78', n=8)\n",
    "gr.save_view_graph(img)\n"
   ]
  },
  {
   "cell_type": "code",
   "execution_count": 5,
   "metadata": {},
   "outputs": [
    {
     "output_type": "execute_result",
     "data": {
      "text/plain": [
       "([{'Europe': 109, 'North America': 1}, {'GB': 108, 'US': 1, 'ES': 1}],\n",
       " ['Document views from each continent', 'Document views from each country'],\n",
       " ['', ''],\n",
       " ['Continent', 'Country'])"
      ]
     },
     "metadata": {},
     "execution_count": 5
    }
   ],
   "source": [
    "cd.construct_document_counts_figure('140224093301-60151c849f742e45bfb63d18ab9ded78')"
   ]
  },
  {
   "cell_type": "code",
   "execution_count": 22,
   "metadata": {},
   "outputs": [
    {
     "output_type": "execute_result",
     "data": {
      "text/plain": [
       "<graphviz.dot.Digraph at 0x7f16a5fa8850>"
      ],
      "image/svg+xml": "<?xml version=\"1.0\" encoding=\"UTF-8\" standalone=\"no\"?>\n<!DOCTYPE svg PUBLIC \"-//W3C//DTD SVG 1.1//EN\"\n \"http://www.w3.org/Graphics/SVG/1.1/DTD/svg11.dtd\">\n<!-- Generated by graphviz version 2.43.0 (0)\n -->\n<!-- Title: test Pages: 1 -->\n<svg width=\"62pt\" height=\"116pt\"\n viewBox=\"0.00 0.00 62.00 116.00\" xmlns=\"http://www.w3.org/2000/svg\" xmlns:xlink=\"http://www.w3.org/1999/xlink\">\n<g id=\"graph0\" class=\"graph\" transform=\"scale(1 1) rotate(0) translate(4 112)\">\n<title>test</title>\n<polygon fill=\"white\" stroke=\"transparent\" points=\"-4,4 -4,-112 58,-112 58,4 -4,4\"/>\n<!-- A -->\n<g id=\"node1\" class=\"node\">\n<title>A</title>\n<ellipse fill=\"none\" stroke=\"black\" cx=\"27\" cy=\"-90\" rx=\"27\" ry=\"18\"/>\n<text text-anchor=\"middle\" x=\"27\" y=\"-86.3\" font-family=\"Times,serif\" font-size=\"14.00\">A</text>\n</g>\n<!-- B -->\n<g id=\"node2\" class=\"node\">\n<title>B</title>\n<ellipse fill=\"none\" stroke=\"black\" cx=\"27\" cy=\"-18\" rx=\"27\" ry=\"18\"/>\n<text text-anchor=\"middle\" x=\"27\" y=\"-14.3\" font-family=\"Times,serif\" font-size=\"14.00\">B</text>\n</g>\n<!-- A&#45;&gt;B -->\n<g id=\"edge1\" class=\"edge\">\n<title>A&#45;&gt;B</title>\n<path fill=\"none\" stroke=\"black\" d=\"M27,-71.7C27,-63.98 27,-54.71 27,-46.11\"/>\n<polygon fill=\"black\" stroke=\"black\" points=\"30.5,-46.1 27,-36.1 23.5,-46.1 30.5,-46.1\"/>\n</g>\n</g>\n</svg>\n"
     },
     "metadata": {},
     "execution_count": 22
    }
   ],
   "source": [
    "gr.basic_example()"
   ]
  },
  {
   "cell_type": "code",
   "execution_count": 10,
   "metadata": {
    "tags": []
   },
   "outputs": [
    {
     "output_type": "execute_result",
     "data": {
      "text/plain": [
       "46768f',\n",
       "  '130824011238-2744350ede2977a250a82caa90b38d68',\n",
       "  '130824050542-df50d06c3821d2ee2bd693a20cd66f3e',\n",
       "  '130826223048-cde30a95fa4f522c4528c769b7fbc36e',\n",
       "  '130827152546-7ea9545bdffc8b3dcb80bdb099ace0b8',\n",
       "  '130828181304-24779580c41fc6c8abb74934c34d5caa',\n",
       "  '130829130215-f3edf0594227dbc917d11ac84b56c4d4',\n",
       "  '130904010104-8b2f0a2be556ace97925af904075e08a',\n",
       "  '130907182609-c7f1ce07868066dc0ce02cfeb6490ee9',\n",
       "  '130909140422-91da7812a977cccc28a79114637cda56',\n",
       "  '130909201407-e5cfbd14411e83d1dd4fe7633b136382',\n",
       "  '130912011909-978c3ce4875ae54af214da0b113acd6f',\n",
       "  '130914130739-d2eb66518646a0fceca6b3df0b163f69',\n",
       "  '130915022812-0cda0b74e3b2d58bcadfd7f1b5064d27',\n",
       "  '130921175740-398e4379e26fb68fe1df1ade45813c74',\n",
       "  '130924172352-0c0f7c4c1d8c9198a97d159b3e05fbf7',\n",
       "  '130928211752-3ddc2ffdf79b9dbf64f83858146213c0',\n",
       "  '130929050709-8e335697be92322c38c6047b3f719d02',\n",
       "  '130930190658-196126c1da08e27ab138a3bc028f4f51',\n",
       "  '131001144921-aa41def376250ee4a3fb1c9a5534b853',\n",
       "  '131001185825-354b0f2a2fe5adc8b2eabad5f9680341',\n",
       "  '131003094029-590714f9983da8bf2a39d8098c59cd9e',\n",
       "  '131004053043-14638f4c2601c9aa11930eae1a81319a',\n",
       "  '131006012936-48300bf24d0f23fe5725a598a9ba01ad',\n",
       "  '131009175319-6f69a81f6d304ee9516aad4b816994a8',\n",
       "  '131011142121-5e44670591127b2df51e91da655d93d5',\n",
       "  '131011212332-f3fd378e9e99a8d1c8c08f2fb7dc247c',\n",
       "  '131012215756-cdc6eabce4d8dd54af86bfbc1b159375',\n",
       "  '131014153723-52b8ee83e964fb5dcade9c3d37a6d7dd',\n",
       "  '131014225151-ec02ff20452b703fc21815677b47c189',\n",
       "  '131015130253-260be8ce5e954baba45f29d61c93317e',\n",
       "  '131015165603-dfb9d4bdf44c4480c43245e84bcfbdb5',\n",
       "  '131015172908-e17a9695bf61d8500f0a268e75865db3',\n",
       "  '131016231734-4e44be91c156b00c1263bc8d3ba974d9',\n",
       "  '131018180832-e28dca6e223df61907f5dea6a64d0841',\n",
       "  '131019154924-9971d5d6a68e8e783cb23af8cc4518d7',\n",
       "  '131021185934-e14579bc8c03515c05148d14437ae5fb',\n",
       "  '131024190342-33edac48d49595ce0376cd6422d37e26',\n",
       "  '131025185756-8b3e658e478af9f3a735d0b045f8fdbf',\n",
       "  '131026101105-6c0be0c6115d7f318abb41196af54300',\n",
       "  '131026105530-1c46e2f52db7faef5052608684c6458f',\n",
       "  '131029005420-aa38fb212094f34596d370494b8de551',\n",
       "  '131029151629-c28ce2a14b70cf4d0b14b6e00fc61a89',\n",
       "  '131029220330-b04bf19f8df68048bb38d475f65bfe87',\n",
       "  '131030110111-f6aad0978524b6b2b9796c186a3bfd77',\n",
       "  '131031173554-3fba6e3ce34344299aede992ad8a5138',\n",
       "  '131031180458-7ae2e322d4ce5de3e4ba2d232d7e223f',\n",
       "  '131101011215-459d18cdcfb9c7953f71969e77a3cc24',\n",
       "  '131101164733-244efb3b13ce14ff39c3f559e8119b73',\n",
       "  '131105130648-1f2356b87d3ad99f038c8a292f64e5f3',\n",
       "  '131105185548-83910c9a46cb4467f368fc4e7072b959',\n",
       "  '131106143508-6e86ee2fd75c04bd49b68e2fd5af67f7',\n",
       "  '131106160257-de6c42bc4195269b00d5cef245fa2eda',\n",
       "  '131108110715-25792681cf7d066f8da684ff440c45e7',\n",
       "  '131108194159-2c5d7632414fbeb9b579663056246c7e',\n",
       "  '131108234841-cd6e051c4abe33e79fd3ae1d0124b1cd',\n",
       "  '131111003201-79d420ff69560389d0a1b81d388d12ff',\n",
       "  '131111165130-f49210da759cfbfda3e006662bd4476d',\n",
       "  '131112203050-00bbb0a147de8e805ab5de0cb717ac87',\n",
       "  '131114212551-dc947ae77aab0a5b9570b48049bece41',\n",
       "  '131114233013-81abec03575b3e8f3f6c2df3bcb1850d',\n",
       "  '131115145102-8ba768d886ac44625d26b5e48783dfd1',\n",
       "  '131116195351-9992dcb5ab07dcc719ef335cbd0b2a59',\n",
       "  '131117133323-f53395dfd66e6174546b5efd908514b1',\n",
       "  '131120151814-aff6d0b2453fe80959a0509d2ae7aa6f',\n",
       "  '131121015750-b0f2769c9aadffd2d356954aa2ef90f7',\n",
       "  '131125032055-a7fd4b4c1ca134c4b4e4bb3b79e1348a',\n",
       "  '131125153703-900e1ca34c459d26c559a33350dcf9eb',\n",
       "  '131125164347-0000000067d8d6acc910841e89bdc150',\n",
       "  '131125174732-f2d9af9cc505621e690d05ae76de920e',\n",
       "  '131126103748-9f52994fd08f3c3eb49cf730b1b40356',\n",
       "  '131127193453-20a64c0f7789679ab895878b048f4404',\n",
       "  '131129192839-4970bd031bb4e0effecf53c21d050dda',\n",
       "  '131129220652-772e20df1681c79e5ab138eefdab59b0',\n",
       "  '131129235101-a446f5e87ae648fab67d3349771c3e0c',\n",
       "  '131130001824-edb8c2214798c6d200263132b142eac2',\n",
       "  '131130163113-ca1eb2bd068ff99a9284d0c38077acc4',\n",
       "  '131130181435-c8ce464edfae39c2b9bc389d8fb6c5c1',\n",
       "  '131201004807-00000000a80a359646e4a5b967047fe0',\n",
       "  '131201120304-f99023412ed0cf2335601a7c2ae07714',\n",
       "  '131202061657-00000000da798b6b34ccc17171f2b2e6',\n",
       "  '131202115503-7424e53869349c53a2a036cfaa2f6ea2',\n",
       "  '131202152552-6b467b2734b505a74b7678bdfbf3a46e',\n",
       "  '131202165041-8ca301974b7ad90d248a8337e556ac21',\n",
       "  '131203153351-1bb093e04a83afbb59c327eb99d29fe8',\n",
       "  '131203230256-6b4c3b76a9f74f72e6cda39e7ff94a3e',\n",
       "  '131205212030-5ce5deb98d08b5571aa4effd5a861117',\n",
       "  '131206201205-0a85633f943b27f0e762f0936eaff50e',\n",
       "  '131206213926-3c133d3b993343cd68f0153e72483d73',\n",
       "  '131210162333-ec3979edb5c171ef3d87a7a6b0744412',\n",
       "  '131211000157-f576a9cd1b388bff4592c8938f3a2d04',\n",
       "  '131211014902-7356dddbd01589e96b01933a03086f80',\n",
       "  '131211124139-2f8f0946ab25266d44d5c618b2b6919d',\n",
       "  '131211143859-3b48c425bd0a04aa0e9684d8f1ae9808',\n",
       "  '131211145531-836f3e90b13f3f808a97298248ea9e92',\n",
       "  '131211232409-1e1a02add6f8ad546ede17528ee33aa2',\n",
       "  '131213154001-82162afdc5f97d3b378309b5a31c0654',\n",
       "  '131213183835-8754127a35a82ff5dee32b03f9f75901',\n",
       "  '131213184017-8bde02cb8bb1820c6195b205c60fca02',\n",
       "  '131213184122-74018413db458035ccc04928423211ff',\n",
       "  '131213193513-2a5226f4575757b9a3c561372efff0a4',\n",
       "  '131213194708-e78c2d967e00a280d7d5614c55acb9e0',\n",
       "  '131216140713-777a6285670b75a4967794a2a58a24e8',\n",
       "  '131216185025-9433c77055946df686554d6c77a5d7d8',\n",
       "  '131216225712-2fc7c4b7efb830bd1350aebe02c808bb',\n",
       "  '131218134654-14ec51ce03f834fc4c8f8dd1d092054c',\n",
       "  '131218174156-f077771700542d9c059ce88113ef78ad',\n",
       "  '131218185517-f9f677435cb3db12acce5e90b8ab5965',\n",
       "  '131218190026-a1f75b03c4a2d2c738236f7b9e27578e',\n",
       "  '131218190129-56caed4a79794da568a210e2b13668ee',\n",
       "  '131218214543-6e737ba837239e888f951180b0a9ae1a',\n",
       "  '131219191657-e3e92277678a2db840aac276a018d7cf',\n",
       "  '131220113437-ceb8da387fb4dedecabe0253eb7712cf',\n",
       "  '131220160425-760f61dfaa4efc8e482452de832acdbe',\n",
       "  '131221143524-a9a8e1e4a25dd85d9cf22ae605ea3ce8',\n",
       "  '131221153054-b271b729e7058477f94f84da66a44507',\n",
       "  '131221162040-b1ba5a010a5573817f5656e27ab617c0',\n",
       "  '131222220613-64c25702bc26514bffbe7a97723ab536',\n",
       "  '131223024128-1e989971045554aee1fa71a7952164de',\n",
       "  '131223180109-8d27bc3b2b413de094e1d3cc5cbd553e',\n",
       "  '131226055542-0a7dc9d921012d68423cda7bc832f5e6',\n",
       "  '131226141109-a542b4481a5e6ab40349afd47d724c0b',\n",
       "  '131229061256-0000000080d26045b006cb5005dc0408',\n",
       "  '131230141119-c7f4f096dab3161c6bf7476d531ec15f',\n",
       "  '131230184146-3738e940d5baabea9213eb773fcf3fd8',\n",
       "  '131231141245-37cd79b118d129f77593750146d43400',\n",
       "  '140101230447-181223cab7ee62e2847ad4aec0e8f452',\n",
       "  '140102004142-00000000dde9c582cd6d7ea3831fea1a',\n",
       "  '140102125634-e1c0a2fb880d51d36708109bd5e61ee1',\n",
       "  '140102144339-2111aef5306e364b93e404a66589806e',\n",
       "  '140102151818-d5b50cf34335a54f7bcb157d751082e5',\n",
       "  '140102202713-75d5a3fe39959c1a7aaaba09a0036ce2',\n",
       "  '140102203145-afd313f3f54501c951be8695c948057a',\n",
       "  '140103115519-2a6b183cdb5248667ec9ed1d56609f1b',\n",
       "  '140104144824-1e69068612f852b12417a0dd9dbbd0e4',\n",
       "  '140105172231-ec00c4144c69580fbe9237bb4a083217',\n",
       "  '140105173028-dbb6b2af8b333122cbbbcc2729081fd9',\n",
       "  '140105210009-9c966088546ea3a49b106c6dc14c3160',\n",
       "  '140106151927-3a5df4019aaf45772f24609e0182ae80',\n",
       "  '140106155742-14371ff1e5f7ff471332e21a0fc2ec22',\n",
       "  '140106161718-da07cec311cb3d5507fc8db10d1d01a9',\n",
       "  '140106201412-33a9a5406fc47dcf9e3d53b037dc313a',\n",
       "  '140106232344-a8f54e17793531cce56b2830df9baa2a',\n",
       "  '140106233426-076c3593982580370e5d0b9512e66b1c',\n",
       "  '140107062802-acdfbbf0da65982d4d69cb35dc388a1c',\n",
       "  '140107202211-5ef33d99ef173b001634e19fa335416b',\n",
       "  '140108022045-389cd1d8f9854844ceed75284ffc8167',\n",
       "  '140108033634-3e3214cabf2261558a5a84302d8cb1ea',\n",
       "  '140108164509-c1f3b440e76633a6e16a9e18f7ffb7eb',\n",
       "  '140108194748-4e08a3bfe3057263a09cf549def5a321',\n",
       "  '140112011815-457b13dddc471b609dc43c251d1638c0',\n",
       "  '140113101201-16c240079997b30cdf488876eca682e2',\n",
       "  '140115163244-44790039d91facac6639fbfc4f513970',\n",
       "  '140115173203-2058f6f2137d00f62ffa1790da1c206d',\n",
       "  '140115182829-e0eb52fd5fa1e453cbfabd2a0d322c0b',\n",
       "  '140115205933-a373e4ed452326e3fa6b9f6bb39e4944',\n",
       "  '140116005941-5a2c6036605e0f1d07030d81d8fdfdc1',\n",
       "  '140116205942-904224b81a62b9883abad47addcf49ac',\n",
       "  '140117145634-824003b1e7f265a91dd9a1ab802b7e33',\n",
       "  '140117151551-f926bc5afd790acd21a8ba5d178e8827',\n",
       "  '140118045527-e0e3a9d1ddc64842b49dee5afd49187a',\n",
       "  '140119023139-958f9b70e4f147f5939faa4a01bd0e1d',\n",
       "  '140120081952-1c68adc802684451e817319ac551139d',\n",
       "  '140120091040-a039692805ec31a8faf50a4a5c1260fb',\n",
       "  '140120125948-a3c7b2a5135a83444797b1a23515f16b',\n",
       "  '140120191531-00000000b446d07a65957e1dfd83542d',\n",
       "  '140121132644-06cb89d68a987623ba8efb694fce2eb0',\n",
       "  '140121231455-05a6b6b4a5fb55091735369532207b60',\n",
       "  '140122044348-0796e947b53df6d98393440d79a4d039',\n",
       "  '140122060647-46c73dedc285ea2e57ed9ab6b7499faa',\n",
       "  '140122084236-0052d094a583d0c522e8c3a8c2204151',\n",
       "  '140122121516-9d298634e30443981124cdd204cffa99',\n",
       "  '140123023829-2e5ee4697833527e777b1e1e4e684b54',\n",
       "  '140123161728-3787c1c982c76f4e9ac7f1a457c684da',\n",
       "  '140123212513-f7206d5bfb989503bddf02c078ad56f5',\n",
       "  '140124140747-f2a1bdf3cb029cffd63b2403c7fa41f0',\n",
       "  '140124172801-ee327c3b3778efcad4469c3bf77d8c3e',\n",
       "  '140125141146-f51221ab3bb84e438765e94eb26922fc',\n",
       "  '140126200450-c97f76c1313a0bb9f8dc58da43df76e2',\n",
       "  '140126211125-8e069252711deb9929321d1e1787c93f',\n",
       "  '140127032958-6ff859b1469191c4244e56b24d7a11fa',\n",
       "  '140127034142-0000000093452e6d6d58f8b4f4a502b2',\n",
       "  '140127115523-538424fda94acafd8875fc49758ab5cf',\n",
       "  '140127133249-ab89e9fc8042439e17f3d5d508470388',\n",
       "  '140127141222-7d47973ed0ddd6d409c9aa61937538f5',\n",
       "  '140128104122-acf5937cc38b1191f31f78d255ce76db',\n",
       "  '140128163028-4f23b2481237b7c88d3db94cbd2116a5',\n",
       "  '140128190649-e70519c2c52d4082a75473a7239b379b',\n",
       "  '140129000929-ec414264d3233d5412f60cd62a9a68c3',\n",
       "  '140129071717-275a1fd9d75682e54e043ec218e40395',\n",
       "  '140129130743-57fd20c9c0408a23655435159a6ee60b',\n",
       "  '140129192020-3e5893ea181bd9e55e8680123a1057e2',\n",
       "  '140129205210-52b4aff57ed9a69ab7c28110135d818d',\n",
       "  '140129232020-4bde5500dbc08c5cb9de637574f9d99d',\n",
       "  '140129235714-cddc139a00356b4bbc2ce6f066446c57',\n",
       "  '140130094310-6324d7406825fa78aaa57fe522143505',\n",
       "  '140130201023-fe1d16a4ac6dd14b915959789c4772ec',\n",
       "  '140130211414-797b40fa0ceba1699fad7e258b264a9d',\n",
       "  '140131002859-c8d734d0ead31b8f4fa27e361544e60a',\n",
       "  '140131024645-cd4947f672b4ae8e13e0dd94dc369a48',\n",
       "  '140131042715-cdfaa3db71715a9f01b05e15ccbccd34',\n",
       "  '140131172824-e84dfaeef8dfdd432a7135aaf33fc326',\n",
       "  '140131195537-50aa09b6f83a839b4e104b9388af44e1',\n",
       "  '140131205251-5487a88562474db0b53727e0bdadc7e5',\n",
       "  '140201153408-86db380b686af8d3119b06db713bed4e',\n",
       "  '140201195414-22cb93b5fefa1f599770f736cb8d0c4b',\n",
       "  '140202153844-84f8c6decb42f129204a6fa94870d7fb',\n",
       "  '140203075116-58ca793ea379293253963dd3feaa7f79',\n",
       "  '140203121703-46608004f0ce61fa0a5fb17f7a1885c7',\n",
       "  '140203141807-2cc009379c796b8278d5af3fb45b8340',\n",
       "  '140203170618-6c23c6562ce3b6c4b975b2be67679f6c',\n",
       "  '140204000027-ce91abee5b1211f82a712f5ab537ab59',\n",
       "  '140204155937-00000000b61e11d7f76b50189840d89c',\n",
       "  '140204165631-970041a0a953fa8613d4af9fb6b5c18a',\n",
       "  '140204195436-764ad56ed7575c0d3fbdfe4d1be05d42',\n",
       "  '140204210032-c1e7af19a19dcb8765bd5a993f2bc583',\n",
       "  '140205044924-2247ec45ff6b3db926655b3ea4387104',\n",
       "  '140205065014-1f843c106db02d5174117b9e8febef0c',\n",
       "  '140205125131-3322fba24977266d41d86a91df22025a',\n",
       "  '140206010655-dc8aadcd5e8c996dd9f1de9013110dd8',\n",
       "  '140206052224-25da90b18a9b6faf20256d6d045771ad',\n",
       "  '140206152952-35c8be6fd234d672b91493aa493a0407',\n",
       "  '140207031838-74033166b5399d10a2d7744776a59ce6',\n",
       "  '140207042226-f14556fa280d04d15f81bad69ee69fdc',\n",
       "  '140207054345-132def9c8e348fa2552d94549ace6b6b',\n",
       "  '140207154426-5165c8d1feabfed06e92526786390ef0',\n",
       "  '140207220336-369aa267c6645fcf3f5f9d6de2eb327e',\n",
       "  '140208023555-0000000034bf12ec2ed9bbce9e5546af',\n",
       "  '140208025318-bcbe34f9d0cc94fc92fa17e3e4d8df3d',\n",
       "  '140208030444-0000000064c1bbcf86e0ece63d0e26f1',\n",
       "  '140208030505-000000001880cde0e41d9a2685f2417b',\n",
       "  '140208031437-000000006f1c65a9cb57dbe823dc78d3',\n",
       "  '140208163742-c697758922929a47d993481235e908ef',\n",
       "  '140208175645-486701dd254acb8874d2c9eb46dca181',\n",
       "  '140210102442-a064a3ea2852e6444144bcee8bd4bbdb',\n",
       "  '140210144128-406b98d8e1b406f8b06a9d8311c69caf',\n",
       "  '140210161258-c560c11260fa102d68d5eaedf068ded0',\n",
       "  '140210180758-26a2ce55492d78daf3cf0812120bced9',\n",
       "  '140211131443-336fcdb349d698fbc22304cfe70af8dd',\n",
       "  '140211183843-674de9aeff0d51d74b6b93239f89016c',\n",
       "  '140211190329-510caa9c82754f9265ce09bda6cb8d47',\n",
       "  '140211192326-6e9ac1cda7108238fc0434a9f3d0139e',\n",
       "  '140211195257-be3a0ca0aab04052c9961fcb10ee78f4',\n",
       "  '140212080724-4dc311c75fcae59ba74f7434472738bc',\n",
       "  '140212130705-1dd3d7503212491e79d06c03ab5853a4',\n",
       "  '140212202850-833f00876b1fc2125becfbea3b7228ef',\n",
       "  '140213041809-ee1ef3f1fccb534a3e274e1c5780130a',\n",
       "  '140213161840-e671fa00e25cac7e9f143353b52e90f3',\n",
       "  '140214044857-39fe78cf39ac21d5d295cf29765286f5',\n",
       "  '140214123159-02234740f03740d31b9fc1797d75e96a',\n",
       "  '140214154611-8d08aa3102771e8f0134e1eea01f4a53',\n",
       "  '140214162334-a2b1df34376b3f4ff1a924c7d22f8529',\n",
       "  '140214202315-97b06fb7361af6d473d41eee0fe7ea20',\n",
       "  '140214204838-f770de245585c393e7c8597242293cfb',\n",
       "  '140214232706-cf0da6bbbe9ee179ef7e46436daee0df',\n",
       "  '140215040043-df230bae497d0681fbf6f131668e9e55',\n",
       "  '140215045409-92b1a73f69983c7cc38e4b7bf0c93e18',\n",
       "  '140215133839-5762b548d81984b89be4aca464a72ed3',\n",
       "  '140216002819-9c2efa3eccf078d9bf64ce5f46c714b3',\n",
       "  '140216150433-000000008c120a4911e6ca74f07e7169',\n",
       "  '140216150718-000000004895ee2d0e438a225148b249',\n",
       "  '140217015144-6af25401197a4f0f878f7b02ef7af9bd',\n",
       "  '140217123957-407c35769abf695b57223eda0dcde46c',\n",
       "  '140217143808-943e3e1e7e90ae0c86ff6c215218d344',\n",
       "  '140217145518-4171776313746f618a707a775a3362bd',\n",
       "  '140218045217-8487edae688d581e35ccd5efbf331fdf',\n",
       "  '140218071004-da15e0e0c8b382c3df6bdd9df7eb2d2a',\n",
       "  '140218075507-31471e5c565188cd64766d88bb83d1ff',\n",
       "  '140218110228-c19838b9590273930fcaf446811f66c1',\n",
       "  '140218134024-49fc84dc1310096cd92d7c0615da919b',\n",
       "  '140218134932-0a7e089083eb3eb39ebeba5cb09cd525',\n",
       "  '140218173103-b700499d64ebe1b203eb4bfb98093cd1',\n",
       "  '140218180130-91e29e13a58545613429df293f661136',\n",
       "  '140219024014-2d45b27126a20d608470880af525e4d9',\n",
       "  '140219074420-7af43b52b1a92c53a255e3ead09207e5',\n",
       "  '140219080229-4403497d64dab547cf1571247f047fb5',\n",
       "  '140219093242-d42d686d1d8f24ce1025771e7645bbb2',\n",
       "  '140219095322-00000000572c1014d9e6c09177ae247a',\n",
       "  '140219101346-00000000f8119918d46b0e0f61144cc6',\n",
       "  '140219130632-625cf7ea883c2208fb73d1e0934c64b6',\n",
       "  '140219172153-3896a15fc51a3cfc9ba36c2f1e992937',\n",
       "  '140219172713-79e744d899e6c94057f2dd81172a6579',\n",
       "  '140219190344-3c322a7c9295750e91238ac2fad012d0',\n",
       "  '140220070751-08ec0055692b745d09133333ed926706',\n",
       "  '140220132138-83dc60ad7bc4b5028bf185d9c1d8f4a5',\n",
       "  '140220132858-beaccbdeaa6cf602008aa06ceaa25e69',\n",
       "  '140220133258-4ed24d71c8648a72f4aaabc01e44e1b0',\n",
       "  '140220142613-ca16cfcd8ca77233487adfd1d3cf37bf',\n",
       "  '140220162251-79726dd5f82a57f253ddd99b9929de78',\n",
       "  '140220162511-2a29b74b1f64c2c240c30f677eb083dd',\n",
       "  '140220190604-c87c07c8157738d81b15a383698a11d6',\n",
       "  '140220213232-1e82e4282ce6d5b82aaefdda23523965',\n",
       "  '140220221920-e23808d2759b44314af42d6227cde06d',\n",
       "  '140220232954-602041f9c4bfdd2a4846a5ed40116ebf',\n",
       "  '140221005102-5492d5bde1c03f90abdf902a9b35e124',\n",
       "  '140221041535-ef19a49443edba9f42ce7e6bd4536ba4',\n",
       "  '140221201526-b00377d332d386a5a2a05ec4c4a15f42',\n",
       "  '140221222906-9971abd86ea721eb677e7a06714899e2',\n",
       "  '140222090032-fb5781041c5e2ccecd44a521a1b6f1bb',\n",
       "  '140222111628-6e1272b859ad7bb4ba36c1093791098f',\n",
       "  '140222131541-ade94590143ac04dcd9944e8810e4146',\n",
       "  '140222223416-f1489ef6de8c2ff1d04de93cd39ca55b',\n",
       "  '140223021137-ed62c02c0758fbd3707f4ab394d716ec',\n",
       "  '140224042029-594cd85d91a76b8ed886d21a37202583',\n",
       "  '140224071624-3f5be398130a843120488554230865e2',\n",
       "  '140224102131-00000000bcfb64dd9dcfbbf40844f536',\n",
       "  '140224102951-000000009fae79ecfa964d41db3f659e',\n",
       "  '140224110459-3d2480254e95b14bb3e746968cad409b',\n",
       "  '140224124337-e8ede1240b59ae37d784d5ed41fbaf36',\n",
       "  '140224165034-4516a9c364643e411379b29a9b91b739',\n",
       "  '140224173201-0000000010fe804da7a01825adae9d21',\n",
       "  '140224174940-a82e0c4e42505badbca7f38817f982fb',\n",
       "  '140224185517-64bb7ed9014401b698152c6b519ddfef',\n",
       "  '140224194447-c589e7577e812b8b2f98b5668494b137',\n",
       "  '140224212913-00000000dc2b158df2c7c6213b71ed7e',\n",
       "  '140225023015-616032efc51b74ade817de153ce91685',\n",
       "  '140225024227-727d8d2267bc2367dfb7bb2262d42e74',\n",
       "  '140225024357-5f61e3d3b026737aae017479f0ec5310',\n",
       "  '140225024438-fdded52165989f3574b4234a2378c0f4',\n",
       "  '140225024507-68f0a0c6a3d705c5f2ab240968b66b58',\n",
       "  '140225041900-ef13331d36195f91b95da8d2e367c207',\n",
       "  '140225143932-bdb02d677719ea443c169dcd154ea0ad',\n",
       "  '140225160455-ba0dbef2efa4d21e4aa94144a24b52bb',\n",
       "  '140225162723-be1a4e11acfeefb183fe7e3b8574c6cb',\n",
       "  '140225163930-690328015ed10447399f153381f2479e',\n",
       "  '140225165357-4b72466511145b0092947af33206d0f1',\n",
       "  '140225165522-1e1caab2b178033f7739013ca9f2ee83',\n",
       "  '140225184655-210a1c49880637a925a2c8ae1c72c73e',\n",
       "  '140225203207-12dad49ffcec8e8e084596cd64911d57',\n",
       "  '140225212004-b79a66c362db8aa3b6ac37c2e99aa39b',\n",
       "  '140226004253-770000d0441970f9023f5aea8c226032',\n",
       "  '140226022214-683776cf5d36cdd174ed57e187af5c75',\n",
       "  '140226041342-1ccb088137ea8b261f09a877b0937320',\n",
       "  '140226055411-7067737dcb58f26614981c2402b68196',\n",
       "  '140226060511-9daea92acce396e035573d2b90991bf6',\n",
       "  '140226064006-198d1055f31e960db6003ead4c55cccc',\n",
       "  '140226084031-ced4ae85bbff75fe64dd345b9ea79ad9',\n",
       "  '140226142059-621ce48d810bb349fef37b7e6e2bd5e5',\n",
       "  '140226170246-f187a7732ad5c849e38f842f062d5197',\n",
       "  '140226181606-b52b5b68073c87fabbf0e3c9d0773f91',\n",
       "  '140226184854-a1cba285006b043f9f61f4602b9c75ff',\n",
       "  '140226190005-b678b733d5c2104f3fc8f7663cada5c8',\n",
       "  '140226191547-99cfed15c9efa4987c2273faf443fadb',\n",
       "  '140226193103-7e97c4a4334f61520e564b7ef795b93b',\n",
       "  '140226202612-ad66b96d5e61e20958a2338c5169422d',\n",
       "  '140226220725-e3cef6e95c248b54693aa09d0fd41c85',\n",
       "  '140227010352-4d6007c59bcf95a00c66d5380ffd6dda',\n",
       "  '140227031041-a86adeded448565ce5783bae5c754dcb',\n",
       "  '140227033322-df23e3ea64c11f9c9b6a0dddbd1c5704',\n",
       "  '140227063814-d0f57b8cd91a9781605063346215859c',\n",
       "  '140227065337-0b22d55b7d30d6753b5b833f921baf61',\n",
       "  '140227073210-686db29073104512af202fa86aa93fcf',\n",
       "  '140227080132-c038e5546d578cf4895a66e6fd8d2dc0',\n",
       "  '140227151503-5145f7861c34bf01ae540869a9396d0b',\n",
       "  '140227153400-67abf8f76e1ddcab5a4747a71c78fcc5',\n",
       "  '140227153408-79563a3b950e15d1017ff17247503482',\n",
       "  '140227154549-935cb263c8173402e81d11ed1c709bb4',\n",
       "  '140227160126-fa4fc859ffd398e568510ce829936396',\n",
       "  '140227164349-45d226fff4c9cc62aedfa7370b4341ff',\n",
       "  '140227164417-8de95ce3349123c8f5c247bf0aefc314',\n",
       "  '140227164903-9b9e3c59a59f833311c3c47b70139cee',\n",
       "  '140227171142-554eae644c981667d688f67b1b0c4082',\n",
       "  '140227184517-335fdeaf49176d0f401ca2027ddbb463',\n",
       "  '140227200454-00000000661178362ffa40a0b59fb5e1',\n",
       "  '140227210142-00000000d690471810785689d5f6addc',\n",
       "  '140227213108-7aa67bafad2ae5643f9236296d094c79',\n",
       "  '140227215237-00000000792d76d3d5727f2af7b5fb2f',\n",
       "  '140227215927-725606e207fa7ce45c27991cacfcc194',\n",
       "  '140227223414-c37b140493cbd6d620fe8e51de6b68ca',\n",
       "  '140227224908-d227a4920116ea964c672d224ec86b81',\n",
       "  '140228002112-c2ce2bae77ef7e8944a8dca1808321dc',\n",
       "  '140228021526-51ece94421c7fc2fd4d320c304254e8e',\n",
       "  '140228034433-f60d9f6b3e629310dcca7f52b4c9453e',\n",
       "  '140228044422-000000000c12851e10b6243216d0b278',\n",
       "  '140228054446-b3e88598788b7f3ba48d1a91cb4aba4e',\n",
       "  '140228061417-f18ce7366d3acc352b7d0e1dbb7a098b',\n",
       "  '140228063003-d050cbfb8e1f49b4bbfce0b27419e0eb',\n",
       "  '140228081728-eccf1b9523fbb10ca468f78f104f9eaf',\n",
       "  '140228091654-53e5cd5349a470241bcfd98da9b6312c',\n",
       "  '140228094120-870852745fb053eed1cc007432c7ca3c',\n",
       "  '140228113229-2320c3d05f713674c158c5480e0261ed',\n",
       "  '140228123124-37dc0343c83e318153124459f405a93f',\n",
       "  '140228131751-3ec5a87460d2fe297c3d33fcb1dc034f',\n",
       "  '140228132342-410400f1f77620579d98efece2cc0b74',\n",
       "  '140228133510-d6e28b61eec20ada1e925720b4d8e751',\n",
       "  '140228135426-5e7d34e1ec5a92918a71a6d3a105fbe6',\n",
       "  '140228152103-196342c03df2009c4d26852934c4396c',\n",
       "  '140228185938-bddc652d7e3e25928ba35179d3926fed',\n",
       "  '140228193655-000000002b580323cd890177d1659748',\n",
       "  '140228205505-5f752629c55997266b73cd0781f744fb',\n",
       "  '140228214542-844794bac13b0b405fb44fc5cffd3feb',\n",
       "  '140228230419-79a974564e0f731257ce56ea0927e1ea'],\n",
       " '130313161023-ee03f65a89c7406fa097abe281341b42')"
      ]
     },
     "metadata": {},
     "execution_count": 10
    }
   ],
   "source": [
    "\n",
    "most_related_docs = []\n",
    "key = None\n",
    "for doc in cd.document_readers.keys():\n",
    "    related_docs = cd.also_likes(doc)\n",
    "    if len(related_docs) > len(most_related_docs):\n",
    "        key = doc\n",
    "        most_related_docs = related_docs\n",
    "\n",
    "most_related_docs, key"
   ]
  },
  {
   "cell_type": "code",
   "execution_count": 10,
   "metadata": {},
   "outputs": [
    {
     "output_type": "stream",
     "name": "stdout",
     "text": [
      "// Example\ndigraph \"Also likes\" {\n\t{\n\t\tnode [fontsize=16 shape=plaintext]\n\t\tReaders -> Documents\n\t}\n\t{\n\t\tnode [rank=same rankdir=same shape=box]\n\t\tA [label=0 color=green style=filled]\n\t\tB [label=1]\n\t}\n\t{\n\t\tnode [rank=same rankdir=same shape=circle]\n\t\tC [label=2]\n\t\tD [label=3 color=green style=filled]\n\t}\n\tA -> D\n\tA -> C\n\tB -> D\n}\n"
     ]
    }
   ],
   "source": [
    "from graphviz import Digraph\n",
    "\n",
    "dot = Digraph(name='Also likes', comment='Example')\n",
    "\n",
    "with dot.subgraph() as context:\n",
    "    context.attr('node', shape='plaintext', fontsize='16')\n",
    "    context.edge('Readers', 'Documents')\n",
    "\n",
    "with dot.subgraph() as top:\n",
    "    top.attr('node', shape='box', rankdir='same', rank='same')\n",
    "    top.node('A', '0', color='green', style='filled')\n",
    "    top.node('B', '1')\n",
    "\n",
    "with dot.subgraph() as bot:\n",
    "    bot.attr('node', shape='circle', rankdir='same', rank='same')\n",
    "    bot.node('C', '2')\n",
    "    bot.node('D', '3', color='green', style='filled')\n",
    "\n",
    "dot.edge('A', 'D')\n",
    "dot.edge('A', 'C')\n",
    "dot.edge('B', 'D')\n",
    "print(dot.source)"
   ]
  },
  {
   "cell_type": "code",
   "execution_count": 11,
   "metadata": {},
   "outputs": [],
   "source": [
    "import numpy as np\n"
   ]
  },
  {
   "cell_type": "code",
   "execution_count": 12,
   "metadata": {},
   "outputs": [
    {
     "output_type": "stream",
     "name": "stdout",
     "text": [
      "True\n"
     ]
    }
   ],
   "source": [
    "u = np.array(['a','b', 'c'])\n",
    "if 'b' in u:\n",
    "    print(True)\n"
   ]
  },
  {
   "cell_type": "code",
   "execution_count": 13,
   "metadata": {},
   "outputs": [],
   "source": [
    "from itertools import islice\n",
    "\n",
    "reader = fr.stream_file_chunks('sample_data/issuu_sample.json', chunk_size=1)"
   ]
  },
  {
   "cell_type": "code",
   "execution_count": 14,
   "metadata": {},
   "outputs": [
    {
     "output_type": "execute_result",
     "data": {
      "text/plain": [
       "['{   \"ts\": 1393631989,    \"visitor_uuid\": \"745409913574d4c6\",    \"visitor_username\": null,    \"visitor_source\": \"external\",    \"visitor_device\": \"browser\",    \"visitor_useragent\": \"Mozilla/5.0 (iPhone; CPU iPhone OS 7_0_6 like Mac OS X) AppleWebKit/537.51.1 (KHTML, like Gecko) Mobile/11B651 [FBAN/FBIOS;FBAV/7.0.0.17.1;FBBV/1325030;FBDV/iPhone4,1;FBMD/iPhone;FBSN/iPhone OS;FBSV/7.0.6;FBSS/2; FBCR/Telcel;FBID/phone;FBLC/es_ES;FBOP/5]\",    \"visitor_ip\": \"0e1c9cd3d6c22c65\",    \"visitor_country\": \"MX\",    \"visitor_referrer\": \"ab11264107143c5f\",    \"env_type\": \"reader\",    \"env_doc_id\": \"140228202800-6ef39a241f35301a9a42cd0ed21e5fb0\",    \"env_adid\": null,    \"event_type\": \"impression\",    \"subject_type\": \"doc\",    \"subject_doc_id\": \"140228202800-6ef39a241f35301a9a42cd0ed21e5fb0\",    \"subject_page\": 23,    \"cause_type\": \"page\" }\\n']"
      ]
     },
     "metadata": {},
     "execution_count": 14
    }
   ],
   "source": [
    "next(reader)"
   ]
  },
  {
   "cell_type": "code",
   "execution_count": 15,
   "metadata": {},
   "outputs": [
    {
     "output_type": "execute_result",
     "data": {
      "text/plain": [
       "['{   \"ts\": 1393631990,    \"visitor_uuid\": \"9a83c97f415601a6\",    \"visitor_username\": null,    \"visitor_source\": \"external\",    \"visitor_device\": \"browser\",    \"visitor_useragent\": \"Mozilla/5.0 (Windows NT 5.1) AppleWebKit/537.36 (KHTML, like Gecko) Chrome/31.0.1650.63 Safari/537.36\",    \"visitor_ip\": \"03a2602450304bd4\",    \"visitor_country\": \"AR\",    \"visitor_referrer\": \"0aefac0a2bd221ab\",    \"env_type\": \"reader\",    \"env_doc_id\": \"131203154832-9b8594b7ec211f7e1a0782fd9883a42c\",    \"env_adid\": null,    \"event_type\": \"read\",    \"subject_type\": \"doc\",    \"subject_doc_id\": \"131203154832-9b8594b7ec211f7e1a0782fd9883a42c\",    \"subject_page\": 0,    \"cause\": null }\\n']"
      ]
     },
     "metadata": {},
     "execution_count": 15
    }
   ],
   "source": [
    "next(reader)"
   ]
  },
  {
   "cell_type": "code",
   "execution_count": 2,
   "metadata": {},
   "outputs": [
    {
     "output_type": "execute_result",
     "data": {
      "text/plain": [
       "2"
      ]
     },
     "metadata": {},
     "execution_count": 2
    }
   ],
   "source": [
    "from collections import OrderedDict\n",
    "\n",
    "o = OrderedDict([('a', 2), ('b', 4), ('c', 9)])\n",
    "o['a']"
   ]
  },
  {
   "cell_type": "code",
   "execution_count": null,
   "metadata": {},
   "outputs": [],
   "source": []
  }
 ],
 "metadata": {
  "language_info": {
   "codemirror_mode": {
    "name": "ipython",
    "version": 3
   },
   "file_extension": ".py",
   "mimetype": "text/x-python",
   "name": "python",
   "nbconvert_exporter": "python",
   "pygments_lexer": "ipython3",
   "version": "3.8.5-final"
  },
  "kernelspec": {
   "name": "python3",
   "display_name": "Python 3.8.5 64-bit ('.env')",
   "metadata": {
    "interpreter": {
     "hash": "f5efebce6af57f5c626bfff6ab8e2414509d2d89416d9946a6bbf2778eb9812b"
    }
   }
  }
 },
 "nbformat": 4,
 "nbformat_minor": 4
}